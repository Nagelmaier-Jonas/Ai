{
 "cells": [
  {
   "cell_type": "code",
   "execution_count": 9,
   "metadata": {},
   "outputs": [],
   "source": [
    "import numpy as np\n",
    "from sklearn.feature_extraction.text import TfidfVectorizer\n",
    "from sklearn.metrics.pairwise import cosine_similarity\n",
    "import spacy as sp\n",
    "nlp = sp.load(\"en_core_web_sm\")\n",
    "import pandas as pd"
   ]
  },
  {
   "cell_type": "code",
   "execution_count": 10,
   "metadata": {
    "collapsed": false,
    "jupyter": {
     "outputs_hidden": false
    }
   },
   "outputs": [
    {
     "data": {
      "text/html": [
       "<div>\n",
       "<style scoped>\n",
       "    .dataframe tbody tr th:only-of-type {\n",
       "        vertical-align: middle;\n",
       "    }\n",
       "\n",
       "    .dataframe tbody tr th {\n",
       "        vertical-align: top;\n",
       "    }\n",
       "\n",
       "    .dataframe thead th {\n",
       "        text-align: right;\n",
       "    }\n",
       "</style>\n",
       "<table border=\"1\" class=\"dataframe\">\n",
       "  <thead>\n",
       "    <tr style=\"text-align: right;\">\n",
       "      <th></th>\n",
       "      <th>questions</th>\n",
       "      <th>answers</th>\n",
       "    </tr>\n",
       "  </thead>\n",
       "  <tbody>\n",
       "    <tr>\n",
       "      <th>0</th>\n",
       "      <td>What is a novel coronavirus?</td>\n",
       "      <td>A novel coronavirus is a new coronavirus that ...</td>\n",
       "    </tr>\n",
       "    <tr>\n",
       "      <th>1</th>\n",
       "      <td>Why is the disease being called coronavirus di...</td>\n",
       "      <td>On February 11, 2020 the World Health Organiza...</td>\n",
       "    </tr>\n",
       "    <tr>\n",
       "      <th>2</th>\n",
       "      <td>How does the virus spread?</td>\n",
       "      <td>The virus that causes COVID-19 is thought to s...</td>\n",
       "    </tr>\n",
       "    <tr>\n",
       "      <th>3</th>\n",
       "      <td>Can I get COVID-19 from food (including restau...</td>\n",
       "      <td>Currently there is no evidence that people can...</td>\n",
       "    </tr>\n",
       "    <tr>\n",
       "      <th>4</th>\n",
       "      <td>Will warm weather stop the outbreak of COVID-19?</td>\n",
       "      <td>It is not yet known whether weather and temper...</td>\n",
       "    </tr>\n",
       "    <tr>\n",
       "      <th>...</th>\n",
       "      <td>...</td>\n",
       "      <td>...</td>\n",
       "    </tr>\n",
       "    <tr>\n",
       "      <th>112</th>\n",
       "      <td>Can the sun’s ultraviolet (UV) light disinfect...</td>\n",
       "      <td>We don’t know yet. Early scientific data sugge...</td>\n",
       "    </tr>\n",
       "    <tr>\n",
       "      <th>113</th>\n",
       "      <td>How often do surfaces (such as handrails and i...</td>\n",
       "      <td>The more frequently a surface is touched by mu...</td>\n",
       "    </tr>\n",
       "    <tr>\n",
       "      <th>114</th>\n",
       "      <td>Do procedures for responding to formed fecal (...</td>\n",
       "      <td>No. RNAexternal icon of the virus that causes ...</td>\n",
       "    </tr>\n",
       "    <tr>\n",
       "      <th>115</th>\n",
       "      <td>Can lifeguards monitor how visitors socially d...</td>\n",
       "      <td>Not when lifeguards are actively lifeguarding....</td>\n",
       "    </tr>\n",
       "    <tr>\n",
       "      <th>116</th>\n",
       "      <td>How can the spread of the virus that causes CO...</td>\n",
       "      <td>Lifeguard trainers can consider the following ...</td>\n",
       "    </tr>\n",
       "  </tbody>\n",
       "</table>\n",
       "<p>117 rows × 2 columns</p>\n",
       "</div>"
      ],
      "text/plain": [
       "                                             questions  \\\n",
       "0                         What is a novel coronavirus?   \n",
       "1    Why is the disease being called coronavirus di...   \n",
       "2                           How does the virus spread?   \n",
       "3    Can I get COVID-19 from food (including restau...   \n",
       "4     Will warm weather stop the outbreak of COVID-19?   \n",
       "..                                                 ...   \n",
       "112  Can the sun’s ultraviolet (UV) light disinfect...   \n",
       "113  How often do surfaces (such as handrails and i...   \n",
       "114  Do procedures for responding to formed fecal (...   \n",
       "115  Can lifeguards monitor how visitors socially d...   \n",
       "116  How can the spread of the virus that causes CO...   \n",
       "\n",
       "                                               answers  \n",
       "0    A novel coronavirus is a new coronavirus that ...  \n",
       "1    On February 11, 2020 the World Health Organiza...  \n",
       "2    The virus that causes COVID-19 is thought to s...  \n",
       "3    Currently there is no evidence that people can...  \n",
       "4    It is not yet known whether weather and temper...  \n",
       "..                                                 ...  \n",
       "112  We don’t know yet. Early scientific data sugge...  \n",
       "113  The more frequently a surface is touched by mu...  \n",
       "114  No. RNAexternal icon of the virus that causes ...  \n",
       "115  Not when lifeguards are actively lifeguarding....  \n",
       "116  Lifeguard trainers can consider the following ...  \n",
       "\n",
       "[117 rows x 2 columns]"
      ]
     },
     "execution_count": 10,
     "metadata": {},
     "output_type": "execute_result"
    }
   ],
   "source": [
    "covid19_faqs = pd.read_csv(\"covid_faq.csv\")\n",
    "covid19_faqs"
   ]
  },
  {
   "cell_type": "markdown",
   "metadata": {},
   "source": [
    "#### 6.1 Implementieren Sie die Funktion calculate_similarity, die die Ähnlichkeit zweier Dokumente bestimmt und retourniert. Testen Sie deren Funktionsweise mit den COVID19-FAQs3. Ziel ist es, die beste Antwort zu finden. Ermitteln Sie hierzu die Ähnlichkeiten der Suchanfrage zu den gegebenen Fragen im Dataset und retournieren Sie jene Antwort, deren Frage am ehesten zur Suche passt"
   ]
  },
  {
   "cell_type": "code",
   "execution_count": 11,
   "metadata": {
    "collapsed": false,
    "jupyter": {
     "outputs_hidden": false
    }
   },
   "outputs": [
    {
     "name": "stderr",
     "output_type": "stream",
     "text": [
      "/tmp/ipykernel_180/3831323344.py:2: UserWarning: [W007] The model you're using has no word vectors loaded, so the result of the Doc.similarity method will be based on the tagger, parser and NER, which may not give useful similarity judgements. This may happen if you're using one of the small models, e.g. `en_core_web_sm`, which don't ship with word vectors and only use context-sensitive tensors. You can always add your own word vectors, or use one of the larger models instead if available.\n",
      "  return doc1.similarity(doc2)\n"
     ]
    },
    {
     "name": "stdout",
     "output_type": "stream",
     "text": [
      "It is not yet known whether weather and temperature affect the spread of COVID-19. Some other viruses, like those that cause the common cold and flu, spread more during cold weather months but that does not mean it is impossible to become sick with these viruses during other months. There is much more to learn about the transmissibility, severity, and other features associated with COVID-19 and investigations are ongoing.\n"
     ]
    }
   ],
   "source": [
    "def calculate_similarity(doc1, doc2):\n",
    "    return doc1.similarity(doc2)\n",
    "\n",
    "def find_best_answer(search_query_token, df_faq_data):\n",
    "    # get row from dataframe with the highest similarity to search_query\n",
    "    # return the answer of that row\n",
    "    best_answer = \"\"\n",
    "    best_similarity = -1\n",
    "    for index, row in df_faq_data.iterrows():\n",
    "        similarity = calculate_similarity(search_query_token, nlp(row[\"questions\"]))\n",
    "        if similarity > best_similarity:\n",
    "            best_similarity = similarity\n",
    "            best_answer = row[\"answers\"]\n",
    "    return best_answer\n",
    "\n",
    "search_query = nlp(\"Will hot weather stop the outbreak of the virus?\")\n",
    "\n",
    "answer = find_best_answer(search_query, covid19_faqs)\n",
    "\n",
    "print(answer)"
   ]
  }
 ],
 "metadata": {
  "kernelspec": {
   "display_name": "Python 3 (ipykernel)",
   "language": "python",
   "name": "python3"
  },
  "language_info": {
   "codemirror_mode": {
    "name": "ipython",
    "version": 3
   },
   "file_extension": ".py",
   "mimetype": "text/x-python",
   "name": "python",
   "nbconvert_exporter": "python",
   "pygments_lexer": "ipython3",
   "version": "3.10.6"
  }
 },
 "nbformat": 4,
 "nbformat_minor": 4
}
