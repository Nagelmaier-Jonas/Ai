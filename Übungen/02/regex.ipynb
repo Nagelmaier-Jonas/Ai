{
 "cells": [
  {
   "cell_type": "code",
   "execution_count": 1,
   "id": "2b5213c0-2cbe-4bf3-b302-a9d3755126b7",
   "metadata": {},
   "outputs": [],
   "source": [
    "import re"
   ]
  },
  {
   "cell_type": "markdown",
   "id": "e97f4d59-725b-4d98-96db-3b74103cd809",
   "metadata": {},
   "source": [
    "# Extracting Data II – Regular Expressions "
   ]
  },
  {
   "cell_type": "markdown",
   "id": "0cbc73d6-efa2-4266-aead-ab833945a201",
   "metadata": {
    "tags": []
   },
   "source": [
    "## Einfache Suche nach Zahlen "
   ]
  },
  {
   "cell_type": "code",
   "execution_count": 2,
   "id": "1d38cdc0-61d5-44ec-8679-540c2971450e",
   "metadata": {},
   "outputs": [
    {
     "name": "stdout",
     "output_type": "stream",
     "text": [
      "['5']\n"
     ]
    }
   ],
   "source": [
    "p = re.compile(\"5\")\n",
    "print(p.findall(\"Für 5 Semmeln habe ich 3.90€ bezahlt.\")) "
   ]
  },
  {
   "cell_type": "code",
   "execution_count": 3,
   "id": "3e99b425-19ae-4d97-a6cb-fb8e4f40bac5",
   "metadata": {},
   "outputs": [
    {
     "name": "stdout",
     "output_type": "stream",
     "text": [
      "['5', '3', '9', '0']\n"
     ]
    }
   ],
   "source": [
    "p = re.compile(\"[1234567890]\")\n",
    "print(p.findall(\"Für 5 Semmeln habe ich 3.90€ bezahlt.\")) "
   ]
  },
  {
   "cell_type": "code",
   "execution_count": 4,
   "id": "44573a73-b7af-4f5e-847f-761e89c038cd",
   "metadata": {},
   "outputs": [
    {
     "name": "stdout",
     "output_type": "stream",
     "text": [
      "['5', '3', '9', '0']\n"
     ]
    }
   ],
   "source": [
    "p = re.compile(\"[0-9]\") \n",
    "print(p.findall(\"Für 5 Semmeln habe ich 3.90€ bezahlt.\")) "
   ]
  },
  {
   "cell_type": "code",
   "execution_count": 5,
   "id": "21321366-c0ba-46cd-bd2f-c4031dd0a178",
   "metadata": {},
   "outputs": [
    {
     "name": "stdout",
     "output_type": "stream",
     "text": [
      "['3.90€']\n",
      "['3.90$']\n"
     ]
    }
   ],
   "source": [
    "## 3.1\n",
    "p = re.compile(\"[0-9]\\.[0-9][0-9][€$]\") \n",
    "print(p.findall(\"Für 5 Semmeln habe ich 3.90€ bezahlt.\")) \n",
    "print(p.findall(\"Für 5 Semmeln habe ich 3.90$ bezahlt.\")) "
   ]
  },
  {
   "cell_type": "code",
   "execution_count": 6,
   "id": "f0c306f7-c9de-4fdf-ab11-51bd7d2c003d",
   "metadata": {},
   "outputs": [
    {
     "name": "stdout",
     "output_type": "stream",
     "text": [
      "[]\n",
      "[]\n",
      "[' 150 ']\n"
     ]
    }
   ],
   "source": [
    "## 3.2\n",
    "p = re.compile(\" [0-9][0-9][0-9] \")\n",
    "print(p.findall(\"Für 5 Semmeln habe ich 3.90€ bezahlt.\"))\n",
    "print(p.findall(\"Für 15 Semmeln habe ich 19.50$ bezahlt.\"))\n",
    "print(p.findall(\"Für 150 Semmeln habe ich 190.50$ bezahlt.\"))\n",
    "\n",
    "## Es werden nun nur 3stellige Zahlen berücksichtigt. "
   ]
  },
  {
   "cell_type": "code",
   "execution_count": 7,
   "id": "b0fa2a8c-37de-482b-b560-bc8998bab9eb",
   "metadata": {},
   "outputs": [
    {
     "name": "stdout",
     "output_type": "stream",
     "text": [
      "[' 5 ']\n",
      "[' 15 ']\n",
      "[' 150 ']\n"
     ]
    }
   ],
   "source": [
    "p = re.compile(\" [0-9]+ \")\n",
    "print(p.findall(\"Für 5 Semmeln habe ich 3.90€ bezahlt.\"))\n",
    "print(p.findall(\"Für 15 Semmeln habe ich 19.50$ bezahlt.\"))\n",
    "print(p.findall(\"Für 150 Semmeln habe ich 190.50$ bezahlt.\")) "
   ]
  },
  {
   "cell_type": "code",
   "execution_count": 8,
   "id": "b485eb74-4e96-4afa-8149-7f150c8d9acc",
   "metadata": {},
   "outputs": [
    {
     "name": "stdout",
     "output_type": "stream",
     "text": [
      "[' 3.90€ ']\n",
      "[' 19.50$ ']\n",
      "[' 190.50$ ']\n"
     ]
    }
   ],
   "source": [
    "p = re.compile(\" [0-9]+\\.[0-9][0-9][€$] \")\n",
    "print(p.findall(\"Für 5 Semmeln habe ich 3.90€ bezahlt.\"))\n",
    "print(p.findall(\"Für 15 Semmeln habe ich 19.50$ bezahlt.\"))\n",
    "print(p.findall(\"Für 150 Semmeln habe ich 190.50$ bezahlt.\")) "
   ]
  },
  {
   "cell_type": "code",
   "execution_count": 9,
   "id": "2fa774ce-f615-40b7-9bca-c51f2b3a3a61",
   "metadata": {},
   "outputs": [
    {
     "name": "stdout",
     "output_type": "stream",
     "text": [
      "[' 3.90€ ']\n",
      "[' 19.50$ ']\n",
      "[' 190.50$ ']\n"
     ]
    }
   ],
   "source": [
    "p = re.compile(\" [0-9]+\\.[0-9]{2}[€$] \") \n",
    "print(p.findall(\"Für 5 Semmeln habe ich 3.90€ bezahlt.\"))\n",
    "print(p.findall(\"Für 15 Semmeln habe ich 19.50$ bezahlt.\"))\n",
    "print(p.findall(\"Für 150 Semmeln habe ich 190.50$ bezahlt.\")) "
   ]
  },
  {
   "cell_type": "code",
   "execution_count": 10,
   "id": "1d3f0ef3-e43f-478a-93e0-b1849a947ff8",
   "metadata": {},
   "outputs": [
    {
     "name": "stdout",
     "output_type": "stream",
     "text": [
      "[' 3.90 ']\n",
      "[' 19.50$ ']\n",
      "[' 190,50$ ']\n"
     ]
    }
   ],
   "source": [
    "## 3.3\n",
    "p = re.compile(\" [0-9]+[\\.,][0-9]{2}[$€]? \")\n",
    "print(p.findall(\"Für 5 Semmeln habe ich 3.90 bezahlt.\"))\n",
    "print(p.findall(\"Für 15 Semmeln habe ich 19.50$ bezahlt.\"))\n",
    "print(p.findall(\"Für 150 Semmeln habe ich 190,50$ bezahlt.\")) "
   ]
  },
  {
   "cell_type": "markdown",
   "id": "0d9f2edd-5cce-4f5b-95c4-dfbe5e6f0017",
   "metadata": {
    "tags": []
   },
   "source": [
    "## Einfache Suche nach Strings"
   ]
  },
  {
   "cell_type": "code",
   "execution_count": 11,
   "id": "ad3263c9-951b-4801-bd1a-672ef71a7e0f",
   "metadata": {},
   "outputs": [
    {
     "name": "stdout",
     "output_type": "stream",
     "text": [
      "<re.Match object; span=(6, 19), match='Telefonnummer'>\n"
     ]
    }
   ],
   "source": [
    "p = re.compile(\"Telefonnummer\")\n",
    "print(p.search(\"Meine Telefonnummer ist 0664 555 0 123. Ruf schnell an!\")) "
   ]
  },
  {
   "cell_type": "code",
   "execution_count": 12,
   "id": "295b15ab-6d32-4b57-8a7e-1edf9c38742b",
   "metadata": {},
   "outputs": [
    {
     "name": "stdout",
     "output_type": "stream",
     "text": [
      "(6, 19)\n",
      "6\n",
      "19\n"
     ]
    }
   ],
   "source": [
    "match = p.search(\"Meine Telefonnummer ist 0664 555 0 123. Ruf schnell an!\")\n",
    "print(match.span())\n",
    "print(match.start())\n",
    "print(match.end()) "
   ]
  },
  {
   "cell_type": "markdown",
   "id": "d42d73c2-a817-4860-a19f-9b9b242395b5",
   "metadata": {},
   "source": [
    "## 3.4 \n",
    "Die Methode re.finditer() funktioniert genauso wie die Methode re.findall(), mit dem Unterschied, dass sie einen Iterator zurückgibt, der Match-Objekte liefert, die dem Regex-Muster in einer Zeichenkette statt in einer Liste entsprechen.\n",
    "Wenn 0 oder mehr Zeichen am Anfang vom string mit dem Muster des regex Expression übereinstimmen, wird ein entsprechendes Match-Objekt zurückgegeben. Gibt None zurück, wenn die Zeichenkette nicht mit dem Muster übereinstimmt. Zu beachten ist, dass dies ein Unterschied zu einer 'zero-length match' ist."
   ]
  },
  {
   "cell_type": "markdown",
   "id": "470b9201-2ede-4aa3-89b5-252526cad628",
   "metadata": {},
   "source": [
    "# Zusätzliche Regex-Syntax\n",
    "## Oder-Operator "
   ]
  },
  {
   "cell_type": "code",
   "execution_count": 13,
   "id": "a56f4871-95e1-4471-9c0d-492d8262fcad",
   "metadata": {},
   "outputs": [
    {
     "name": "stdout",
     "output_type": "stream",
     "text": [
      "<re.Match object; span=(13, 17), match='Frau'>\n",
      "<re.Match object; span=(14, 18), match='Herr'>\n"
     ]
    }
   ],
   "source": [
    "print(re.search(\"Frau|Herr\", \"Sehr geehrte Frau Musterfrau! Ich darf Sie darauf hinweisen, dass...\"))\n",
    "print(re.search(\"Frau|Herr\", \"Sehr geehrter Herr Mustermann! Ich darf Sie darauf hinweisen, dass...\")) "
   ]
  },
  {
   "cell_type": "markdown",
   "id": "a507e7cb-785a-428c-bacf-b1da603fe145",
   "metadata": {},
   "source": [
    "## Wildcard Operator"
   ]
  },
  {
   "cell_type": "code",
   "execution_count": 14,
   "id": "81cd137a-3045-44f7-b441-6a2548cca9db",
   "metadata": {},
   "outputs": [
    {
     "data": {
      "text/plain": [
       "['Hund', 'Mund']"
      ]
     },
     "execution_count": 14,
     "metadata": {},
     "output_type": "execute_result"
    }
   ],
   "source": [
    "re.findall(\".und\",\"Der Hund hat keinen Mund \")"
   ]
  },
  {
   "cell_type": "markdown",
   "id": "986b0735-1e49-432a-8317-54c60f2f4405",
   "metadata": {},
   "source": [
    "## Bezeichner für den Anfang und das Ende "
   ]
  },
  {
   "cell_type": "code",
   "execution_count": 15,
   "id": "979ce560-c913-4b98-a5eb-31ddeb712601",
   "metadata": {},
   "outputs": [
    {
     "name": "stdout",
     "output_type": "stream",
     "text": [
      "['a']\n",
      "['a']\n",
      "[]\n"
     ]
    }
   ],
   "source": [
    "someText = [\"a\", \"abc\", \"bac\"]\n",
    "for text in someText:\n",
    " print(re.findall(\"^a\", text)) "
   ]
  },
  {
   "cell_type": "markdown",
   "id": "75568580-fa36-41c7-9d6d-b0d071f9796b",
   "metadata": {},
   "source": [
    "## Ausschluss von Zeichen "
   ]
  },
  {
   "cell_type": "code",
   "execution_count": 16,
   "id": "8529a747-6c77-4bad-9dbb-e4cb86179fb7",
   "metadata": {},
   "outputs": [
    {
     "data": {
      "text/plain": [
       "['D',\n",
       " 'a',\n",
       " 's',\n",
       " 'i',\n",
       " 's',\n",
       " 't',\n",
       " 'e',\n",
       " 'i',\n",
       " 'n',\n",
       " 'T',\n",
       " 'e',\n",
       " 'x',\n",
       " 't',\n",
       " 'm',\n",
       " 'i',\n",
       " 't',\n",
       " 'L',\n",
       " 'e',\n",
       " 'e',\n",
       " 'r',\n",
       " 'z',\n",
       " 'e',\n",
       " 'i',\n",
       " 'c',\n",
       " 'h',\n",
       " 'e',\n",
       " 'n',\n",
       " '!']"
      ]
     },
     "execution_count": 16,
     "metadata": {},
     "output_type": "execute_result"
    }
   ],
   "source": [
    "re.findall(\"[^ ]\",\"Das ist ein Text mit Leerzeichen!\") "
   ]
  },
  {
   "cell_type": "markdown",
   "id": "49b4c371-024d-4a5d-b8a3-60af88fcdb81",
   "metadata": {},
   "source": [
    "## 3.5 https://www.programiz.com/python-programming/regex durchlesen"
   ]
  },
  {
   "cell_type": "code",
   "execution_count": 21,
   "id": "2dc938b6-34c0-40a2-ba4d-b79a9c30d596",
   "metadata": {},
   "outputs": [
    {
     "name": "stdout",
     "output_type": "stream",
     "text": [
      "['Booking_HTLKS@htlkrems.at', 'office@htlkrems.at']\n"
     ]
    }
   ],
   "source": [
    "# 3.6\n",
    "# zusätzlicher Import\n",
    "import urllib\n",
    "# Website laden\n",
    "response = urllib.request.urlopen('https://www.htlkrems.ac.at')\n",
    "html_doc = response.read().decode(\"utf-8\")\n",
    "p = re.compile(\"\\w{1,}@\\w{1,}.[a-zA-Z]{2,}\")\n",
    "print(p.findall(html_doc))"
   ]
  },
  {
   "cell_type": "code",
   "execution_count": 22,
   "id": "3b1c9a07-b3b7-4619-956f-ce42dfa1deef",
   "metadata": {
    "tags": []
   },
   "outputs": [],
   "source": [
    "import pandas as pd\n",
    "data = p.findall(html_doc)\n",
    "df = pd.DataFrame(data, columns=[\"E-Mail\"])\n",
    "df.to_csv('emails.csv', index=False)"
   ]
  },
  {
   "cell_type": "markdown",
   "id": "aca52ea5-c588-4890-b5bb-8178b8bc259b",
   "metadata": {},
   "source": [
    "## 3.7 IMDB"
   ]
  },
  {
   "cell_type": "code",
   "execution_count": 26,
   "id": "ac7360d3-0e84-4eec-8203-c3a1f7c935f6",
   "metadata": {},
   "outputs": [
    {
     "data": {
      "text/html": [
       "<div>\n",
       "<style scoped>\n",
       "    .dataframe tbody tr th:only-of-type {\n",
       "        vertical-align: middle;\n",
       "    }\n",
       "\n",
       "    .dataframe tbody tr th {\n",
       "        vertical-align: top;\n",
       "    }\n",
       "\n",
       "    .dataframe thead th {\n",
       "        text-align: right;\n",
       "    }\n",
       "</style>\n",
       "<table border=\"1\" class=\"dataframe\">\n",
       "  <thead>\n",
       "    <tr style=\"text-align: right;\">\n",
       "      <th></th>\n",
       "      <th>title</th>\n",
       "      <th>year</th>\n",
       "      <th>rating</th>\n",
       "    </tr>\n",
       "  </thead>\n",
       "  <tbody>\n",
       "    <tr>\n",
       "      <th>0</th>\n",
       "      <td>Die Verurteilten</td>\n",
       "      <td>1994</td>\n",
       "      <td>9.2</td>\n",
       "    </tr>\n",
       "    <tr>\n",
       "      <th>1</th>\n",
       "      <td>Der Pate</td>\n",
       "      <td>1972</td>\n",
       "      <td>9.2</td>\n",
       "    </tr>\n",
       "    <tr>\n",
       "      <th>2</th>\n",
       "      <td>The Dark Knight</td>\n",
       "      <td>2008</td>\n",
       "      <td>9.0</td>\n",
       "    </tr>\n",
       "    <tr>\n",
       "      <th>3</th>\n",
       "      <td>Der Pate 2</td>\n",
       "      <td>1974</td>\n",
       "      <td>9.0</td>\n",
       "    </tr>\n",
       "    <tr>\n",
       "      <th>4</th>\n",
       "      <td>Die 12 Geschworenen</td>\n",
       "      <td>1957</td>\n",
       "      <td>9.0</td>\n",
       "    </tr>\n",
       "  </tbody>\n",
       "</table>\n",
       "</div>"
      ],
      "text/plain": [
       "                 title  year rating\n",
       "0     Die Verurteilten  1994    9.2\n",
       "1             Der Pate  1972    9.2\n",
       "2      The Dark Knight  2008    9.0\n",
       "3           Der Pate 2  1974    9.0\n",
       "4  Die 12 Geschworenen  1957    9.0"
      ]
     },
     "execution_count": 26,
     "metadata": {},
     "output_type": "execute_result"
    }
   ],
   "source": [
    "from bs4 import BeautifulSoup\n",
    "response = urllib.request.urlopen('https://www.imdb.com/chart/top')\n",
    "html_doc = response.read()\n",
    "soup = BeautifulSoup(html_doc, 'html.parser')\n",
    "\n",
    "movies = {\n",
    "    \"title\": [],\n",
    "    \"year\": [],\n",
    "    \"rating\": [],\n",
    "}\n",
    "\n",
    "for movie in soup.select('.lister-list tr'):\n",
    "    movies[\"title\"].append(movie.select_one('.titleColumn a').text)\n",
    "    movies[\"year\"].append(movie.select_one('.titleColumn span').text[1:-1])\n",
    "    movies[\"rating\"].append(movie.select_one('.imdbRating strong').text)\n",
    "\n",
    "df = pd.DataFrame(movies)\n",
    "df.head()"
   ]
  },
  {
   "cell_type": "code",
   "execution_count": null,
   "id": "e7a28185-81c7-4ac4-bd10-be9ac9594612",
   "metadata": {},
   "outputs": [],
   "source": []
  }
 ],
 "metadata": {
  "kernelspec": {
   "display_name": "Python 3 (ipykernel)",
   "language": "python",
   "name": "python3"
  },
  "language_info": {
   "codemirror_mode": {
    "name": "ipython",
    "version": 3
   },
   "file_extension": ".py",
   "mimetype": "text/x-python",
   "name": "python",
   "nbconvert_exporter": "python",
   "pygments_lexer": "ipython3",
   "version": "3.10.6"
  }
 },
 "nbformat": 4,
 "nbformat_minor": 5
}
