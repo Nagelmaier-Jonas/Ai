{
 "cells": [
  {
   "cell_type": "code",
   "execution_count": 1,
   "id": "087ae5d8",
   "metadata": {
    "pycharm": {
     "name": "#%%\n"
    }
   },
   "outputs": [],
   "source": [
    "import pandas as pd\n",
    "from sklearn.model_selection import train_test_split\n",
    "from sklearn.feature_extraction.text import CountVectorizer,TfidfVectorizer\n",
    "from sklearn import model_selection, preprocessing, linear_model, naive_bayes, metrics, svm\n",
    "from nltk.corpus import stopwords\n",
    "from nltk.stem import SnowballStemmer"
   ]
  },
  {
   "cell_type": "markdown",
   "id": "7a6234a6",
   "metadata": {
    "pycharm": {
     "name": "#%% md\n"
    }
   },
   "source": [
    "## Datenaufbereitung\n",
    "1. Laden Sie das *spam.csv*-File in das DataFrame *data*\n",
    "2. Ändern Sie die Spaltenbezeichner: v1 -> **target** und v2 -> **message**\n",
    "3. Transfomieren Sie den Inhalt der Spalte *message* in Kleinbuchstaben\n",
    "4. Entfernen Sie Stoppwörter\n",
    "5. Führen Sie Stemming und Lemmatisierung durch"
   ]
  },
  {
   "cell_type": "code",
   "execution_count": 2,
   "id": "bed0a802",
   "metadata": {
    "pycharm": {
     "name": "#%%\n"
    }
   },
   "outputs": [
    {
     "data": {
      "text/html": [
       "<div>\n",
       "<style scoped>\n",
       "    .dataframe tbody tr th:only-of-type {\n",
       "        vertical-align: middle;\n",
       "    }\n",
       "\n",
       "    .dataframe tbody tr th {\n",
       "        vertical-align: top;\n",
       "    }\n",
       "\n",
       "    .dataframe thead th {\n",
       "        text-align: right;\n",
       "    }\n",
       "</style>\n",
       "<table border=\"1\" class=\"dataframe\">\n",
       "  <thead>\n",
       "    <tr style=\"text-align: right;\">\n",
       "      <th></th>\n",
       "      <th>target</th>\n",
       "      <th>message</th>\n",
       "    </tr>\n",
       "  </thead>\n",
       "  <tbody>\n",
       "    <tr>\n",
       "      <th>0</th>\n",
       "      <td>ham</td>\n",
       "      <td>go until jurong point, crazy.. availabl only b...</td>\n",
       "    </tr>\n",
       "    <tr>\n",
       "      <th>1</th>\n",
       "      <td>ham</td>\n",
       "      <td>ok lar... joking wif u oni...</td>\n",
       "    </tr>\n",
       "    <tr>\n",
       "      <th>2</th>\n",
       "      <td>spam</td>\n",
       "      <td>free entry 2 a wkly comp to win fa cup final t...</td>\n",
       "    </tr>\n",
       "    <tr>\n",
       "      <th>3</th>\n",
       "      <td>ham</td>\n",
       "      <td>u dun say early hor... u c already then say...</td>\n",
       "    </tr>\n",
       "    <tr>\n",
       "      <th>4</th>\n",
       "      <td>ham</td>\n",
       "      <td>nah i don't think he goes to usf, he liv aroun...</td>\n",
       "    </tr>\n",
       "  </tbody>\n",
       "</table>\n",
       "</div>"
      ],
      "text/plain": [
       "  target                                            message\n",
       "0    ham  go until jurong point, crazy.. availabl only b...\n",
       "1    ham                      ok lar... joking wif u oni...\n",
       "2   spam  free entry 2 a wkly comp to win fa cup final t...\n",
       "3    ham     u dun say early hor... u c already then say...\n",
       "4    ham  nah i don't think he goes to usf, he liv aroun..."
      ]
     },
     "execution_count": 2,
     "metadata": {},
     "output_type": "execute_result"
    }
   ],
   "source": [
    "#1 Daten laden\n",
    "data = pd.read_csv(\"spam.csv\" , encoding='latin-1')\n",
    "\n",
    "#2 Spaltenbezeichner ändern\n",
    "data = data.drop([\"Unnamed: 2\", \"Unnamed: 3\", \"Unnamed: 4\"], axis=1)\n",
    "data.columns = [\"target\", \"message\"]\n",
    "\n",
    "#3 Kleinbuchstaben\n",
    "data['message'] = data['message'].str.lower()\n",
    "\n",
    "#4 Stoppwörter entfernen\n",
    "stop = stopwords.words('german')\n",
    "data['message'] = data['message'].apply(lambda x: ' '.join([word for word in x.split() if word not in stop]))\n",
    "\n",
    "#5 Stemming und Lemmatisierung\n",
    "stemmer = SnowballStemmer(\"german\")\n",
    "data['message'] = data['message'].apply(lambda x: ' '.join([stemmer.stem(word) for word in x.split()]))\n",
    "\n",
    "data.head()"
   ]
  },
  {
   "cell_type": "markdown",
   "id": "bd137d4d",
   "metadata": {
    "pycharm": {
     "name": "#%% md\n"
    }
   },
   "source": [
    "Das Dataset *data* mithilfe von `train_test_split()` in Trainings- und Validierungsdaten aufteilen:"
   ]
  },
  {
   "cell_type": "code",
   "execution_count": 3,
   "id": "4d995943",
   "metadata": {
    "pycharm": {
     "name": "#%%\n"
    }
   },
   "outputs": [
    {
     "name": "stdout",
     "output_type": "stream",
     "text": [
      "Check shape:  (3900,) (1672,)\n"
     ]
    }
   ],
   "source": [
    "train_x, valid_x, train_y, valid_y = train_test_split(data['message'], data['target'], test_size=0.3, random_state=42)\n",
    "print(\"Check shape: \", train_x.shape, valid_x.shape)"
   ]
  },
  {
   "cell_type": "markdown",
   "id": "8ca794e2",
   "metadata": {
    "pycharm": {
     "name": "#%% md\n"
    }
   },
   "source": [
    "Die Antworten (*ham* o. *spam*) in 1 oder 0 umwandeln:"
   ]
  },
  {
   "cell_type": "code",
   "execution_count": 4,
   "id": "95f7d6fb",
   "metadata": {
    "pycharm": {
     "name": "#%%\n"
    }
   },
   "outputs": [
    {
     "name": "stdout",
     "output_type": "stream",
     "text": [
      "Encoder hat mit 0 und 1 zwei Klassen erkannt:  ['ham' 'spam']\n",
      "Die kodierten Antworten der Trainingsdaten:  [1 0 0 ... 0 0 0]\n"
     ]
    }
   ],
   "source": [
    "encoder = preprocessing.LabelEncoder()\n",
    "train_y = encoder.fit_transform(train_y)\n",
    "valid_y = encoder.fit_transform(valid_y)\n",
    "\n",
    "print(\"Encoder hat mit 0 und 1 zwei Klassen erkannt: \", encoder.classes_)\n",
    "print(\"Die kodierten Antworten der Trainingsdaten: \" , train_y)"
   ]
  },
  {
   "cell_type": "markdown",
   "id": "ee12ac4b",
   "metadata": {
    "pycharm": {
     "name": "#%% md\n"
    }
   },
   "source": [
    "Vektorisierung der Daten mit TF-IDF. Mit der Größe von `max_features` kann experimentiert werden. Diese legt den Umfang des Vokabulars fest."
   ]
  },
  {
   "cell_type": "code",
   "execution_count": 5,
   "id": "a2fbb9c4",
   "metadata": {
    "pycharm": {
     "name": "#%%\n"
    }
   },
   "outputs": [
    {
     "name": "stdout",
     "output_type": "stream",
     "text": [
      "Vektor mit 5000 Einträgen:  (5000,)\n",
      "Vokabular:  ['00' '000' '008704050406' ... 'ûï' 'ûïharry' 'ûò']\n"
     ]
    }
   ],
   "source": [
    "vectorizer = TfidfVectorizer(analyzer='word', max_features=5000)\n",
    "vectorizer.fit(data['message'])\n",
    "\n",
    "print(\"Vektor mit 5000 Einträgen: \",  vectorizer.get_feature_names_out().shape)\n",
    "print(\"Vokabular: \", vectorizer.get_feature_names_out())"
   ]
  },
  {
   "cell_type": "code",
   "execution_count": 6,
   "id": "60d7392b",
   "metadata": {
    "pycharm": {
     "name": "#%%\n"
    }
   },
   "outputs": [
    {
     "name": "stdout",
     "output_type": "stream",
     "text": [
      "Check expected shape for train data:  (3900, 5000)\n",
      "Check expected shape for validation data:  (1672, 5000)\n"
     ]
    }
   ],
   "source": [
    "train_x_tfidf = vectorizer.transform(train_x)\n",
    "valid_x_tfidf = vectorizer.transform(valid_x)\n",
    "print(\"Check expected shape for train data: \", train_x_tfidf.shape)\n",
    "print(\"Check expected shape for validation data: \", valid_x_tfidf.shape)"
   ]
  },
  {
   "cell_type": "markdown",
   "id": "ef268898",
   "metadata": {
    "pycharm": {
     "name": "#%% md\n"
    }
   },
   "source": [
    "Classifier trainieren und validieren:"
   ]
  },
  {
   "cell_type": "code",
   "execution_count": 7,
   "id": "db104e68",
   "metadata": {
    "pycharm": {
     "name": "#%%\n"
    }
   },
   "outputs": [
    {
     "data": {
      "text/plain": [
       "0.9826555023923444"
      ]
     },
     "execution_count": 7,
     "metadata": {},
     "output_type": "execute_result"
    }
   ],
   "source": [
    "clf = naive_bayes.MultinomialNB(alpha=0.2)\n",
    "# fit the training dataset on the classifier\n",
    "clf.fit(train_x_tfidf, train_y)\n",
    "\n",
    "# predict the labels on validation dataset\n",
    "predictions = clf.predict(valid_x_tfidf)\n",
    "\n",
    "# retrieve accuracy score\n",
    "metrics.accuracy_score(predictions, valid_y)"
   ]
  }
 ],
 "metadata": {
  "kernelspec": {
   "display_name": "Python 3 (ipykernel)",
   "language": "python",
   "name": "python3"
  },
  "language_info": {
   "codemirror_mode": {
    "name": "ipython",
    "version": 3
   },
   "file_extension": ".py",
   "mimetype": "text/x-python",
   "name": "python",
   "nbconvert_exporter": "python",
   "pygments_lexer": "ipython3",
   "version": "3.10.6"
  }
 },
 "nbformat": 4,
 "nbformat_minor": 5
}
