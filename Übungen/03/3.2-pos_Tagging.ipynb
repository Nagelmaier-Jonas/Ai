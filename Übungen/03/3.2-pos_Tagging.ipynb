{
 "cells": [
  {
   "cell_type": "code",
   "execution_count": 3,
   "metadata": {},
   "outputs": [
    {
     "name": "stderr",
     "output_type": "stream",
     "text": [
      "[nltk_data] Downloading package averaged_perceptron_tagger to\n",
      "[nltk_data]     /home/jovyan/nltk_data...\n",
      "[nltk_data]   Unzipping taggers/averaged_perceptron_tagger.zip.\n"
     ]
    },
    {
     "data": {
      "text/plain": [
       "True"
      ]
     },
     "execution_count": 3,
     "metadata": {},
     "output_type": "execute_result"
    }
   ],
   "source": [
    "import nltk as nl\n",
    "import spacy as sp\n",
    "nlp = sp.load('en_core_web_sm')\n",
    "nl.download('averaged_perceptron_tagger')"
   ]
  },
  {
   "cell_type": "markdown",
   "metadata": {
    "tags": []
   },
   "source": [
    "#### 3.2.1 Extrahieren Sie alle Hauptwörter sowie Eigennamen und speichern Sie diese in einer Liste. Ermitteln Sie außerdem die Anzahl der Elemente. Arbeitsgrundlage bildet die Job Description3 der letzten Übung. Duplikate und Stoppwörter sind zulässig. Ergebnisse: Spacy: 527, NLTK: 515"
   ]
  },
  {
   "cell_type": "code",
   "execution_count": 4,
   "metadata": {
    "collapsed": false,
    "jupyter": {
     "outputs_hidden": false
    }
   },
   "outputs": [
    {
     "data": {
      "text/plain": [
       "515"
      ]
     },
     "execution_count": 4,
     "metadata": {},
     "output_type": "execute_result"
    }
   ],
   "source": [
    "job_desc = open('dataScientistJobDesc.txt', encoding=\"utf-8\").read()\n",
    "job_desc_tokens = nl.word_tokenize(job_desc)\n",
    "words = [t for t in nl.pos_tag(job_desc_tokens) if t[1][:2] == 'NN']\n",
    "len(words)"
   ]
  },
  {
   "cell_type": "code",
   "execution_count": 5,
   "metadata": {
    "collapsed": false,
    "jupyter": {
     "outputs_hidden": false
    }
   },
   "outputs": [
    {
     "data": {
      "text/plain": [
       "524"
      ]
     },
     "execution_count": 5,
     "metadata": {},
     "output_type": "execute_result"
    }
   ],
   "source": [
    "job_desc_tokens_sp = nlp(job_desc)\n",
    "nouns = [token for token in job_desc_tokens_sp if token.pos_ == 'PROPN' or token.pos_ == 'NOUN']\n",
    "len(nouns)"
   ]
  },
  {
   "cell_type": "markdown",
   "metadata": {},
   "source": [
    "#### 3.2.2 Wir sind an der Häufigkeitsverteilung der Wortklassen interessiert. Ermitteln Sie die Anzahl der Substantive, Verben etc. Gesucht ist folgendes Ergebnis:\n",
    "\n",
    "##### {'NOUN': 386, 'VERB': 174, 'PUNCT': 149, 'PROPN': 141, 'ADP': 108, 'DET': 104, 'ADJ': 96, 'SPACE': 63, 'CCONJ': 54, 'AUX': 43, 'PRON': 43, 'ADV': 41, 'PART': 36, 'SCONJ': 15, 'NUM': 8, 'SYM': 6, 'INTJ': 1, 'X': 1}"
   ]
  },
  {
   "cell_type": "code",
   "execution_count": 6,
   "metadata": {
    "collapsed": false,
    "jupyter": {
     "outputs_hidden": false
    }
   },
   "outputs": [],
   "source": [
    "from collections import Counter"
   ]
  },
  {
   "cell_type": "code",
   "execution_count": 7,
   "metadata": {
    "collapsed": false,
    "jupyter": {
     "outputs_hidden": false
    }
   },
   "outputs": [
    {
     "data": {
      "text/plain": [
       "{'NOUN': 388,\n",
       " 'VERB': 156,\n",
       " 'PUNCT': 148,\n",
       " 'PROPN': 136,\n",
       " 'ADP': 113,\n",
       " 'ADJ': 97,\n",
       " 'DET': 94,\n",
       " 'SPACE': 63,\n",
       " 'PRON': 55,\n",
       " 'CCONJ': 54,\n",
       " 'AUX': 52,\n",
       " 'PART': 37,\n",
       " 'ADV': 27,\n",
       " 'SCONJ': 24,\n",
       " 'NUM': 14,\n",
       " 'SYM': 8,\n",
       " 'X': 2,\n",
       " 'INTJ': 1}"
      ]
     },
     "execution_count": 7,
     "metadata": {},
     "output_type": "execute_result"
    }
   ],
   "source": [
    "pos = [t.pos_ for t in job_desc_tokens_sp]\n",
    "counted_pos = Counter(pos)\n",
    "dict(counted_pos.most_common())"
   ]
  },
  {
   "cell_type": "markdown",
   "metadata": {},
   "source": [
    "####  3.2.3 Welches Wort kommt am häufigsten vor in dem Text?"
   ]
  },
  {
   "cell_type": "code",
   "execution_count": 8,
   "metadata": {
    "collapsed": false,
    "jupyter": {
     "outputs_hidden": false
    }
   },
   "outputs": [
    {
     "data": {
      "text/plain": [
       "'data'"
      ]
     },
     "execution_count": 8,
     "metadata": {},
     "output_type": "execute_result"
    }
   ],
   "source": [
    "words = [t.text for t in job_desc_tokens_sp]\n",
    "counted_words = Counter(words)\n",
    "counted_words.most_common(1)[0][0]"
   ]
  }
 ],
 "metadata": {
  "kernelspec": {
   "display_name": "Python 3 (ipykernel)",
   "language": "python",
   "name": "python3"
  },
  "language_info": {
   "codemirror_mode": {
    "name": "ipython",
    "version": 3
   },
   "file_extension": ".py",
   "mimetype": "text/x-python",
   "name": "python",
   "nbconvert_exporter": "python",
   "pygments_lexer": "ipython3",
   "version": "3.10.6"
  }
 },
 "nbformat": 4,
 "nbformat_minor": 4
}
