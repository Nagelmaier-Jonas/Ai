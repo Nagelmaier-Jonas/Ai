{
 "cells": [
  {
   "cell_type": "markdown",
   "id": "eb1cf1e5-a427-49fa-8402-4247b5da6654",
   "metadata": {},
   "source": [
    "# Pipeline"
   ]
  },
  {
   "cell_type": "code",
   "execution_count": 23,
   "id": "fbb95511-58af-42d2-8843-93d1c674d0f4",
   "metadata": {},
   "outputs": [
    {
     "name": "stderr",
     "output_type": "stream",
     "text": [
      "[nltk_data] Downloading package stopwords to /home/jovyan/nltk_data...\n",
      "[nltk_data]   Package stopwords is already up-to-date!\n"
     ]
    },
    {
     "data": {
      "text/plain": [
       "True"
      ]
     },
     "execution_count": 23,
     "metadata": {},
     "output_type": "execute_result"
    }
   ],
   "source": [
    "import spacy as sp\n",
    "import nltk\n",
    "from nltk.corpus import stopwords"
   ]
  },
  {
   "cell_type": "markdown",
   "id": "ed1d7df3-c0f6-44fd-807a-b85690a44e7f",
   "metadata": {},
   "source": [
    "## Functions"
   ]
  },
  {
   "cell_type": "code",
   "execution_count": 50,
   "id": "e9bc0c87-795e-4b35-bc35-5bd15aa13bb8",
   "metadata": {},
   "outputs": [],
   "source": [
    "def to_lower(text):\n",
    "    return text.lower()\n",
    "\n",
    "def remove_url(text):\n",
    "        print(\"remove_url: not implemented\")\n",
    "    \n",
    "def remove_email(text):\n",
    "        print(\"remove_email: not implemented\")\n",
    "        \n",
    "def remove_punctuations(text):\n",
    "    nlp = sp.load(\"en_core_web_sm\")  # Load the English language model\n",
    "    doc = nlp(text)  # Create a spacy document from the input text\n",
    "    return \"\".join([token.text for token in doc if not token.is_punct])\n",
    "    \n",
    "def remove_stopwords(text):\n",
    "    nlp = sp.load(\"en_core_web_sm\")  # Load the English language model\n",
    "    doc = nlp(text)  # Create a spacy document from the input text\n",
    "    return \" \".join([token.text for token in doc if not token.is_stop])"
   ]
  },
  {
   "cell_type": "code",
   "execution_count": 51,
   "id": "0e685e72-403b-4343-95d4-dc7821804c25",
   "metadata": {},
   "outputs": [],
   "source": [
    "def preprocess_text(text, keywords):\n",
    "    for keyword in keywords:  # Iterate through the keywords list\n",
    "        text = keyword(text)  # Apply the keyword function to the text\n",
    "    return text  # Return the processed text\n",
    "text = \"This is some sample text with stopwords.\"\n",
    "keywords = [to_lower, remove_punctuations, remove_stopwords]"
   ]
  },
  {
   "cell_type": "code",
   "execution_count": 52,
   "id": "52c6fc75-9e4c-4a48-aeeb-91462fb6f4b5",
   "metadata": {},
   "outputs": [
    {
     "name": "stdout",
     "output_type": "stream",
     "text": [
      "thisissomesampletextwithstopwords\n"
     ]
    }
   ],
   "source": [
    "preprocessed_text = preprocess_text(text, keywords)\n",
    "print(preprocessed_text)  # Output: \"sample text stopwords\""
   ]
  },
  {
   "cell_type": "code",
   "execution_count": null,
   "id": "bf41ab5e-d235-4f6c-83a8-52b696dd8960",
   "metadata": {},
   "outputs": [],
   "source": []
  }
 ],
 "metadata": {
  "kernelspec": {
   "display_name": "Python 3 (ipykernel)",
   "language": "python",
   "name": "python3"
  },
  "language_info": {
   "codemirror_mode": {
    "name": "ipython",
    "version": 3
   },
   "file_extension": ".py",
   "mimetype": "text/x-python",
   "name": "python",
   "nbconvert_exporter": "python",
   "pygments_lexer": "ipython3",
   "version": "3.10.6"
  }
 },
 "nbformat": 4,
 "nbformat_minor": 5
}
