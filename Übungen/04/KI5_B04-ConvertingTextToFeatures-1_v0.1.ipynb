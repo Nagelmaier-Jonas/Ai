{
 "cells": [
  {
   "cell_type": "code",
   "execution_count": 1,
   "id": "1023ec0a-a030-4adc-94dd-2240e7647917",
   "metadata": {},
   "outputs": [],
   "source": [
    "from tensorflow.keras.utils import to_categorical\n",
    "\n",
    "def one_hot_encoding(sent, vocab):\n",
    "    word_to_number = dict()\n",
    "    for word_id in range(len(vocab)):\n",
    "        word_to_number[vocab[word_id]] = word_id\n",
    "\n",
    "    sent_numbers = []\n",
    "    words = sent.split()\n",
    "    for word in words:\n",
    "        if word in word_to_number:\n",
    "            sent_numbers.append(word_to_number[word])\n",
    "        else:\n",
    "            sent_numbers.append(-1)\n",
    "\n",
    "    word_vectors = []\n",
    "    for number in sent_numbers:\n",
    "        if number >= 0:\n",
    "            vector = to_categorical(number, num_classes=len(vocab))\n",
    "            vector = list(vector)\n",
    "            word_vectors.append(vector)\n",
    "\n",
    "    return word_vectors\n"
   ]
  },
  {
   "cell_type": "code",
   "execution_count": 3,
   "id": "c26caa28-b2cf-4209-9425-e00b674c0b18",
   "metadata": {},
   "outputs": [
    {
     "name": "stdout",
     "output_type": "stream",
     "text": [
      "[[1.0, 0.0, 0.0, 0.0, 0.0, 0.0, 0.0, 0.0, 0.0], [0.0, 1.0, 0.0, 0.0, 0.0, 0.0, 0.0, 0.0, 0.0], [0.0, 0.0, 1.0, 0.0, 0.0, 0.0, 0.0, 0.0, 0.0], [0.0, 0.0, 0.0, 1.0, 0.0, 0.0, 0.0, 0.0, 0.0], [0.0, 0.0, 0.0, 0.0, 1.0, 0.0, 0.0, 0.0, 0.0]]\n"
     ]
    }
   ],
   "source": [
    "vocab = [\"Jim\", \"will\", \"learn\", \"NLP\", \"in\", \"future\", \"and\", \"like\", \"oranges\"]\n",
    "sent = \"Jim will learn NLP in future.\"\n",
    "word_vectors = one_hot_encoding(sent, vocab)\n",
    "print(word_vectors)"
   ]
  },
  {
   "cell_type": "code",
   "execution_count": null,
   "id": "4b29927a-4c34-4aa4-bed7-dd6f5a8e6f64",
   "metadata": {},
   "outputs": [],
   "source": []
  }
 ],
 "metadata": {
  "kernelspec": {
   "display_name": "Python 3 (ipykernel)",
   "language": "python",
   "name": "python3"
  },
  "language_info": {
   "codemirror_mode": {
    "name": "ipython",
    "version": 3
   },
   "file_extension": ".py",
   "mimetype": "text/x-python",
   "name": "python",
   "nbconvert_exporter": "python",
   "pygments_lexer": "ipython3",
   "version": "3.10.6"
  }
 },
 "nbformat": 4,
 "nbformat_minor": 5
}
